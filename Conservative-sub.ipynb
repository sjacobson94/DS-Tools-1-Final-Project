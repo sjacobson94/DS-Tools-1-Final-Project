{
 "cells": [
  {
   "cell_type": "code",
   "execution_count": 2,
   "metadata": {},
   "outputs": [],
   "source": [
    "# !pip install praw\n"
   ]
  },
  {
   "cell_type": "code",
   "execution_count": 7,
   "metadata": {},
   "outputs": [],
   "source": [
    "import praw\n",
    "import pandas as pd"
   ]
  },
  {
   "cell_type": "code",
   "execution_count": 8,
   "metadata": {},
   "outputs": [],
   "source": [
    "reddit = praw.Reddit(client_id='TcwTWLwCeSbE3g', client_secret='hqabrJIfgOCf6Vh-aW0HbLJq9-k', user_agent='datatools_project')\n"
   ]
  },
  {
   "cell_type": "code",
   "execution_count": 9,
   "metadata": {},
   "outputs": [
    {
     "data": {
      "text/plain": [
       "15138"
      ]
     },
     "execution_count": 9,
     "metadata": {},
     "output_type": "execute_result"
    }
   ],
   "source": [
    "\n",
    "Conservative_sub = reddit.subreddit('Conservative').top(\"month\", limit=1000)\n",
    "count=0\n",
    "posts = []\n",
    "words=[]\n",
    "for post in Conservative_sub:\n",
    "    count+=1\n",
    "    posts.append([post.title, post.score, post.id, post.subreddit, post.url, post.num_comments, post.selftext, post.created])\n",
    "    for word in post.title.split():\n",
    "        words.append(word)\n",
    "posts = pd.DataFrame(posts,columns=['title', 'score', 'id', 'subreddit', 'url', 'num_comments', 'body', 'created'])\n",
    "\n",
    "len(posts)\n",
    "len(words)"
   ]
  },
  {
   "cell_type": "code",
   "execution_count": 14,
   "metadata": {},
   "outputs": [
    {
     "name": "stdout",
     "output_type": "stream",
     "text": [
      "Trump 134\n",
      "Black 87\n",
      "Biden 49\n",
      "BLM 49\n",
      "Lives 46\n",
      "Portland 44\n",
      "Police 38\n",
      "Chicago 33\n",
      "Antifa 32\n",
      "says 31\n",
      "Matter 30\n",
      "People 29\n",
      "White 28\n",
      "New 28\n",
      "Says 27\n"
     ]
    }
   ],
   "source": [
    "# from nltk.corpus import stopwords\n",
    "\n",
    "stop_words = set(['ourselves', \"-\", 'hers', 'between', 'yourself', 'but', 'again', 'there', 'about', 'once', 'during', 'out', 'very', 'having', 'with', 'they', 'own', 'an', 'be', 'some', 'for', 'do', 'its', 'yours', 'such', 'into', 'of', 'most', 'itself', 'other', 'off', 'is', 's', 'am', 'or', 'who', 'as', 'from', 'him', 'each', 'the', 'themselves', 'until', 'below', 'are', 'we', 'these', 'your', 'his', 'through', 'don', 'nor', 'me', 'were', 'her', 'more', 'himself', 'this', 'down', 'should', 'our', 'their', 'while', 'above', 'both', 'up', 'to', 'ours', 'had', 'she', 'all', 'no', 'when', 'at', 'any', 'before', 'them', 'same', 'and', 'been', 'have', 'in', 'will', 'on', 'does', 'yourselves', 'then', 'that', 'because', 'what', 'over', 'why', 'so', 'can', 'did', 'not', 'now', 'under', 'he', 'you', 'herself', 'has', 'just', 'where', 'too', 'only', 'myself', 'which', 'those', 'i', 'after', 'few', 'whom', 't', 'being', 'if', 'theirs', 'my', 'against', 'a', 'by', 'doing', 'it', 'how', 'further', 'was', 'here', 'than'])\n",
    "\n",
    "dicw = {}\n",
    "for wrd in words:\n",
    "    if wrd.lower() not in stop_words:\n",
    "        if wrd not in dicw.keys():\n",
    "            dicw[wrd]=0\n",
    "        else:\n",
    "            dicw[wrd]+=1\n",
    "\n",
    "topp = sorted(dicw, key=dicw.get, reverse=True)[:15]\n",
    "for i in topp:\n",
    "    print(i,dicw[i])"
   ]
  }
 ],
 "metadata": {
  "kernelspec": {
   "display_name": "Python 3",
   "language": "python",
   "name": "python3"
  },
  "language_info": {
   "codemirror_mode": {
    "name": "ipython",
    "version": 3
   },
   "file_extension": ".py",
   "mimetype": "text/x-python",
   "name": "python",
   "nbconvert_exporter": "python",
   "pygments_lexer": "ipython3",
   "version": "3.6.9"
  }
 },
 "nbformat": 4,
 "nbformat_minor": 4
}
