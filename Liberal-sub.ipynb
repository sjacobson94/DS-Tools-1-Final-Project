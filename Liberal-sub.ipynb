{
 "cells": [
  {
   "cell_type": "code",
   "execution_count": 2,
   "metadata": {},
   "outputs": [],
   "source": [
    "# !pip install praw\n"
   ]
  },
  {
   "cell_type": "code",
   "execution_count": 1,
   "metadata": {},
   "outputs": [],
   "source": [
    "import praw\n",
    "import pandas as pd"
   ]
  },
  {
   "cell_type": "code",
   "execution_count": 2,
   "metadata": {},
   "outputs": [],
   "source": [
    "reddit = praw.Reddit(client_id='TcwTWLwCeSbE3g', client_secret='hqabrJIfgOCf6Vh-aW0HbLJq9-k', user_agent='datatools_project')\n"
   ]
  },
  {
   "cell_type": "code",
   "execution_count": 3,
   "metadata": {},
   "outputs": [
    {
     "data": {
      "text/plain": [
       "14479"
      ]
     },
     "execution_count": 3,
     "metadata": {},
     "output_type": "execute_result"
    }
   ],
   "source": [
    "\n",
    "Liberal_sub = reddit.subreddit('Liberal').top(\"year\", limit=1000)\n",
    "count=0\n",
    "posts = []\n",
    "words=[]\n",
    "for post in Liberal_sub:\n",
    "    count+=1\n",
    "    posts.append([post.title, post.score, post.id, post.subreddit, post.url, post.num_comments, post.selftext, post.created])\n",
    "    for word in post.title.split():\n",
    "        words.append(word)\n",
    "posts = pd.DataFrame(posts,columns=['title', 'score', 'id', 'subreddit', 'url', 'num_comments', 'body', 'created'])\n",
    "\n",
    "# len(posts)\n",
    "len(words)\n",
    "# posts"
   ]
  },
  {
   "cell_type": "code",
   "execution_count": 4,
   "metadata": {},
   "outputs": [
    {
     "name": "stdout",
     "output_type": "stream",
     "text": [
      "Trump 477\n",
      "House 50\n",
      "coronavirus 44\n",
      "Biden 41\n",
      "says 39\n",
      "White 33\n",
      "US 33\n",
      "Democrats 31\n",
      "Republicans 31\n",
      "Ukraine 28\n",
      "Coronavirus 27\n",
      "New 27\n",
      "U.S. 26\n",
      "Donald 25\n",
      "impeachment 25\n",
      "new 24\n",
      "would 22\n",
      "President 22\n",
      "2020 21\n",
      "Fox 19\n",
      "Court 18\n",
      "America 18\n",
      "News 17\n",
      "could 16\n",
      "election 16\n",
      "president 16\n",
      "like 15\n",
      "Senate 15\n",
      "people 15\n",
      "Congress 15\n",
      "administration 14\n",
      "Giuliani 14\n",
      "claims 13\n",
      "Russia 13\n",
      "pandemic 13\n"
     ]
    }
   ],
   "source": [
    "\n",
    "from nltk.corpus import stopwords\n",
    "\n",
    "stop_words = stopwords.words(\"english\")\n",
    "# print(stopwordlst)\n",
    "stop_words.append(\"-\")\n",
    "stop_words.append(\"--\")\n",
    "stop_words.append(\"|\")\n",
    "stop_words.append(\"—\")\n",
    "trumps= [\"Trump\", \"Trump's\", \"Trump’s\"]\n",
    "US = [\"US\",\"US\", \"U.S.\",\"U.S.\"]\n",
    "\n",
    "\n",
    "dicw = {}\n",
    "for wrd in words:\n",
    "    if wrd.lower() not in stop_words:\n",
    "        if wrd in trumps:\n",
    "            wrd=\"Trump\"\n",
    "        if wrd in US:\n",
    "            word = \"US\"\n",
    "        \n",
    "        if wrd not in dicw.keys():\n",
    "            dicw[wrd]=0\n",
    "        else:\n",
    "            dicw[wrd]+=1\n",
    "\n",
    "\n",
    "topp = sorted(dicw, key=dicw.get, reverse=True)[:35]\n",
    "for i in topp:\n",
    "    print(i,dicw[i])"
   ]
  }
 ],
 "metadata": {
  "kernelspec": {
   "display_name": "Python 3",
   "language": "python",
   "name": "python3"
  },
  "language_info": {
   "codemirror_mode": {
    "name": "ipython",
    "version": 3
   },
   "file_extension": ".py",
   "mimetype": "text/x-python",
   "name": "python",
   "nbconvert_exporter": "python",
   "pygments_lexer": "ipython3",
   "version": "3.6.9"
  }
 },
 "nbformat": 4,
 "nbformat_minor": 4
}
