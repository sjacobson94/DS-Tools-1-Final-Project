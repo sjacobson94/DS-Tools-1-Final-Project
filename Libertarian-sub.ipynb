{
 "cells": [
  {
   "cell_type": "code",
   "execution_count": 2,
   "metadata": {},
   "outputs": [],
   "source": [
    "# !pip install praw\n"
   ]
  },
  {
   "cell_type": "code",
   "execution_count": 1,
   "metadata": {},
   "outputs": [],
   "source": [
    "import praw\n",
    "import pandas as pd"
   ]
  },
  {
   "cell_type": "code",
   "execution_count": 2,
   "metadata": {},
   "outputs": [],
   "source": [
    "reddit = praw.Reddit(client_id='TcwTWLwCeSbE3g', client_secret='hqabrJIfgOCf6Vh-aW0HbLJq9-k', user_agent='datatools_project')\n"
   ]
  },
  {
   "cell_type": "code",
   "execution_count": 3,
   "metadata": {},
   "outputs": [
    {
     "name": "stdout",
     "output_type": "stream",
     "text": [
      "1000\n",
      "15178\n"
     ]
    }
   ],
   "source": [
    "\n",
    "Libertarian_sub = reddit.subreddit('snip').top(\"month\", limit=1000)\n",
    "count=0\n",
    "posts = []\n",
    "words=[]\n",
    "for post in Libertarian_sub:\n",
    "    count+=1\n",
    "    posts.append([post.title, post.score, post.id, post.subreddit, post.url, post.num_comments, post.selftext, post.created])\n",
    "    for word in post.title.split():\n",
    "        words.append(word)\n",
    "posts = pd.DataFrame(posts,columns=['title', 'score', 'id', 'subreddit', 'url', 'num_comments', 'body', 'created'])\n",
    "\n",
    "print(len(posts))\n",
    "print(len(words))"
   ]
  },
  {
   "cell_type": "code",
   "execution_count": 4,
   "metadata": {},
   "outputs": [
    {
     "name": "stdout",
     "output_type": "stream",
     "text": [
      "Trump 233\n",
      "Portland 86\n",
      "federal 63\n",
      "police 47\n",
      "says 46\n",
      "Federal 41\n",
      "Police 40\n",
      "people 32\n",
      "US 32\n",
      "libertarian 29\n",
      "protesters 28\n",
      "election 26\n",
      "Libertarian 25\n",
      "House 24\n",
      "White 23\n",
      "U.S. 23\n",
      "Biden 21\n",
      "like 20\n",
      "officers 20\n",
      "New 19\n",
      "say 19\n",
      "agents 18\n",
      "News 18\n",
      "Jorgensen 18\n",
      "new 18\n",
      "coronavirus 18\n",
      "government 17\n",
      "Homeland 16\n",
      "right 16\n",
      "Joe 15\n",
      "state 15\n",
      "Black 15\n",
      "Florida 15\n",
      "use 14\n",
      "Americans 14\n"
     ]
    }
   ],
   "source": [
    "from nltk.corpus import stopwords\n",
    "\n",
    "stop_words = stopwords.words(\"english\")\n",
    "# print(stopwordlst)\n",
    "stop_words.append(\"-\")\n",
    "stop_words.append(\"--\")\n",
    "stop_words.append(\"|\")\n",
    "stop_words.append(\"—\")\n",
    "trumps= [\"Trump\", \"Trump's\", \"Trump’s\"]\n",
    "US = [\"US\", \"U.S.\"]\n",
    "# stop_words = set(['ourselves', \"-\", 'hers', 'between', 'yourself', 'but', 'again', 'there', 'about', 'once', 'during', 'out', 'very', 'having', 'with', 'they', 'own', 'an', 'be', 'some', 'for', 'do', 'its', 'yours', 'such', 'into', 'of', 'most', 'itself', 'other', 'off', 'is', 's', 'am', 'or', 'who', 'as', 'from', 'him', 'each', 'the', 'themselves', 'until', 'below', 'are', 'we', 'these', 'your', 'his', 'through', 'don', 'nor', 'me', 'were', 'her', 'more', 'himself', 'this', 'down', 'should', 'our', 'their', 'while', 'above', 'both', 'up', 'to', 'ours', 'had', 'she', 'all', 'no', 'when', 'at', 'any', 'before', 'them', 'same', 'and', 'been', 'have', 'in', 'will', 'on', 'does', 'yourselves', 'then', 'that', 'because', 'what', 'over', 'why', 'so', 'can', 'did', 'not', 'now', 'under', 'he', 'you', 'herself', 'has', 'just', 'where', 'too', 'only', 'myself', 'which', 'those', 'i', 'after', 'few', 'whom', 't', 'being', 'if', 'theirs', 'my', 'against', 'a', 'by', 'doing', 'it', 'how', 'further', 'was', 'here', 'than'])\n",
    "\n",
    "dicw = {}\n",
    "for wrd in words:\n",
    "    if wrd.lower() not in stop_words:\n",
    "        if wrd in trumps:\n",
    "            wrd=\"Trump\"\n",
    "        if wrd in US:\n",
    "            word = \"U.S.\"\n",
    "        \n",
    "        if wrd not in dicw.keys():\n",
    "            dicw[wrd]=0\n",
    "        else:\n",
    "            dicw[wrd]+=1\n",
    "\n",
    "topp = sorted(dicw, key=dicw.get, reverse=True)[:35]\n",
    "for i in topp:\n",
    "    print(i,dicw[i])"
   ]
  },
  {
   "cell_type": "code",
   "execution_count": null,
   "metadata": {},
   "outputs": [],
   "source": []
  }
 ],
 "metadata": {
  "kernelspec": {
   "display_name": "Python 3",
   "language": "python",
   "name": "python3"
  },
  "language_info": {
   "codemirror_mode": {
    "name": "ipython",
    "version": 3
   },
   "file_extension": ".py",
   "mimetype": "text/x-python",
   "name": "python",
   "nbconvert_exporter": "python",
   "pygments_lexer": "ipython3",
   "version": "3.6.9"
  }
 },
 "nbformat": 4,
 "nbformat_minor": 4
}
