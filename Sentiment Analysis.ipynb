{
 "cells": [
  {
   "cell_type": "code",
   "execution_count": 1,
   "metadata": {},
   "outputs": [],
   "source": [
    "import seaborn as sns\n",
    "import pandas as pd\n",
    "# !pip install vaderSentiment\n",
    "# !pip install plotnine\n",
    "from plotnine import *\n",
    "import matplotlib.pyplot as plt\n",
    "from vaderSentiment.vaderSentiment import SentimentIntensityAnalyzer\n",
    "analyser = SentimentIntensityAnalyzer()"
   ]
  },
  {
   "cell_type": "code",
   "execution_count": null,
   "metadata": {},
   "outputs": [],
   "source": [
    "# !pip uninstall statsmodels\n",
    "\n",
    "# !pip install numpy scipy patsy pandas\n",
    "\n",
    "# !pip install statsmodels"
   ]
  },
  {
   "cell_type": "code",
   "execution_count": 2,
   "metadata": {},
   "outputs": [
    {
     "name": "stderr",
     "output_type": "stream",
     "text": [
      "/Users/sawyer/opt/anaconda3/lib/python3.7/site-packages/pandas/core/generic.py:5159: SettingWithCopyWarning: \n",
      "A value is trying to be set on a copy of a slice from a DataFrame.\n",
      "Try using .loc[row_indexer,col_indexer] = value instead\n",
      "\n",
      "See the caveats in the documentation: https://pandas.pydata.org/pandas-docs/stable/user_guide/indexing.html#returning-a-view-versus-a-copy\n"
     ]
    }
   ],
   "source": [
    "conservative  = pd.read_csv(\"data/conservative.csv\")\n",
    "conservative = conservative[conservative.lang == \"en\"]\n",
    "conservative.drop_duplicates('text', inplace=True)\n",
    "\n",
    "liberal  = pd.read_csv(\"data/liberal.csv\")\n",
    "liberal = liberal[liberal.lang == \"en\"]\n",
    "liberal.drop_duplicates('text', inplace=True)\n",
    "\n",
    "contweets = conservative[[\"topic\",\"text\",\"created_at\",\"retweet_count\"]]\n",
    "contweets.created_at = pd.to_datetime(contweets.created_at)\n",
    "\n",
    "libtweets = liberal[[\"topic\",\"text\",\"created_at\",\"retweet_count\"]]\n",
    "libtweets.created_at = pd.to_datetime(libtweets.created_at)"
   ]
  },
  {
   "cell_type": "code",
   "execution_count": 3,
   "metadata": {},
   "outputs": [],
   "source": [
    "def sentscores(sentence):\n",
    "    score = analyser.polarity_scores(sentence)\n",
    "    return score[\"compound\"]"
   ]
  },
  {
   "cell_type": "code",
   "execution_count": 4,
   "metadata": {},
   "outputs": [
    {
     "name": "stderr",
     "output_type": "stream",
     "text": [
      "/Users/sawyer/opt/anaconda3/lib/python3.7/site-packages/ipykernel_launcher.py:1: SettingWithCopyWarning: \n",
      "A value is trying to be set on a copy of a slice from a DataFrame.\n",
      "Try using .loc[row_indexer,col_indexer] = value instead\n",
      "\n",
      "See the caveats in the documentation: https://pandas.pydata.org/pandas-docs/stable/user_guide/indexing.html#returning-a-view-versus-a-copy\n",
      "/Users/sawyer/opt/anaconda3/lib/python3.7/site-packages/ipykernel_launcher.py:2: SettingWithCopyWarning: \n",
      "A value is trying to be set on a copy of a slice from a DataFrame.\n",
      "Try using .loc[row_indexer,col_indexer] = value instead\n",
      "\n",
      "See the caveats in the documentation: https://pandas.pydata.org/pandas-docs/stable/user_guide/indexing.html#returning-a-view-versus-a-copy\n"
     ]
    }
   ],
   "source": [
    "contweets[\"score\"] = contweets.text.apply(sentscores)\n",
    "libtweets[\"score\"] = libtweets.text.apply(sentscores)"
   ]
  },
  {
   "cell_type": "code",
   "execution_count": 5,
   "metadata": {},
   "outputs": [
    {
     "data": {
      "text/html": [
       "<div>\n",
       "<style scoped>\n",
       "    .dataframe tbody tr th:only-of-type {\n",
       "        vertical-align: middle;\n",
       "    }\n",
       "\n",
       "    .dataframe tbody tr th {\n",
       "        vertical-align: top;\n",
       "    }\n",
       "\n",
       "    .dataframe thead th {\n",
       "        text-align: right;\n",
       "    }\n",
       "</style>\n",
       "<table border=\"1\" class=\"dataframe\">\n",
       "  <thead>\n",
       "    <tr style=\"text-align: right;\">\n",
       "      <th></th>\n",
       "      <th>topic</th>\n",
       "      <th>text</th>\n",
       "      <th>created_at</th>\n",
       "      <th>retweet_count</th>\n",
       "      <th>score</th>\n",
       "    </tr>\n",
       "  </thead>\n",
       "  <tbody>\n",
       "    <tr>\n",
       "      <th>872</th>\n",
       "      <td>trump</td>\n",
       "      <td>RT @jankybrain: Mark my words: \\n\\nThe RNC wil...</td>\n",
       "      <td>2020-08-22 14:52:07+00:00</td>\n",
       "      <td>444</td>\n",
       "      <td>-0.0516</td>\n",
       "    </tr>\n",
       "    <tr>\n",
       "      <th>4620</th>\n",
       "      <td>portland</td>\n",
       "      <td>@MrPRicoSuave @QTAnon1 Totally agree. If a sto...</td>\n",
       "      <td>2020-08-22 14:48:43+00:00</td>\n",
       "      <td>0</td>\n",
       "      <td>0.1513</td>\n",
       "    </tr>\n",
       "    <tr>\n",
       "      <th>3618</th>\n",
       "      <td>antifa</td>\n",
       "      <td>RT @MrAndyNgo: I went on @FoxNews to discuss h...</td>\n",
       "      <td>2020-08-22 14:47:41+00:00</td>\n",
       "      <td>2348</td>\n",
       "      <td>-0.7351</td>\n",
       "    </tr>\n",
       "    <tr>\n",
       "      <th>1033</th>\n",
       "      <td>biden</td>\n",
       "      <td>RT @ajzeigler: I know a lot of right-leaning f...</td>\n",
       "      <td>2020-08-22 14:52:30+00:00</td>\n",
       "      <td>11</td>\n",
       "      <td>-0.6880</td>\n",
       "    </tr>\n",
       "    <tr>\n",
       "      <th>286</th>\n",
       "      <td>trump</td>\n",
       "      <td>RT @TheRISEofROD: Trump love miners\\n\\nBiden l...</td>\n",
       "      <td>2020-08-22 14:52:19+00:00</td>\n",
       "      <td>1822</td>\n",
       "      <td>0.8555</td>\n",
       "    </tr>\n",
       "    <tr>\n",
       "      <th>628</th>\n",
       "      <td>trump</td>\n",
       "      <td>RT @CaslerNoel: ‘Revenge is sweet, sayeth the ...</td>\n",
       "      <td>2020-08-22 14:52:12+00:00</td>\n",
       "      <td>400</td>\n",
       "      <td>0.4588</td>\n",
       "    </tr>\n",
       "    <tr>\n",
       "      <th>786</th>\n",
       "      <td>trump</td>\n",
       "      <td>RT @ChuckCallesto: BREAKING REPORT: ANTIFA Mil...</td>\n",
       "      <td>2020-08-22 14:52:09+00:00</td>\n",
       "      <td>3404</td>\n",
       "      <td>0.5766</td>\n",
       "    </tr>\n",
       "    <tr>\n",
       "      <th>4112</th>\n",
       "      <td>portland</td>\n",
       "      <td>RT @kittenmule888: 👇🏻💥💥”I wasn’t the enemy, I’...</td>\n",
       "      <td>2020-08-22 14:51:45+00:00</td>\n",
       "      <td>59</td>\n",
       "      <td>-0.7184</td>\n",
       "    </tr>\n",
       "    <tr>\n",
       "      <th>1864</th>\n",
       "      <td>biden</td>\n",
       "      <td>@AndyHerren Yeah. I know some people who are d...</td>\n",
       "      <td>2020-08-22 14:51:49+00:00</td>\n",
       "      <td>0</td>\n",
       "      <td>0.4118</td>\n",
       "    </tr>\n",
       "    <tr>\n",
       "      <th>1151</th>\n",
       "      <td>biden</td>\n",
       "      <td>Joe Biden may have chosen a black woman as his...</td>\n",
       "      <td>2020-08-22 14:52:25+00:00</td>\n",
       "      <td>0</td>\n",
       "      <td>-0.3950</td>\n",
       "    </tr>\n",
       "  </tbody>\n",
       "</table>\n",
       "</div>"
      ],
      "text/plain": [
       "         topic                                               text  \\\n",
       "872      trump  RT @jankybrain: Mark my words: \\n\\nThe RNC wil...   \n",
       "4620  portland  @MrPRicoSuave @QTAnon1 Totally agree. If a sto...   \n",
       "3618    antifa  RT @MrAndyNgo: I went on @FoxNews to discuss h...   \n",
       "1033     biden  RT @ajzeigler: I know a lot of right-leaning f...   \n",
       "286      trump  RT @TheRISEofROD: Trump love miners\\n\\nBiden l...   \n",
       "628      trump  RT @CaslerNoel: ‘Revenge is sweet, sayeth the ...   \n",
       "786      trump  RT @ChuckCallesto: BREAKING REPORT: ANTIFA Mil...   \n",
       "4112  portland  RT @kittenmule888: 👇🏻💥💥”I wasn’t the enemy, I’...   \n",
       "1864     biden  @AndyHerren Yeah. I know some people who are d...   \n",
       "1151     biden  Joe Biden may have chosen a black woman as his...   \n",
       "\n",
       "                    created_at  retweet_count   score  \n",
       "872  2020-08-22 14:52:07+00:00            444 -0.0516  \n",
       "4620 2020-08-22 14:48:43+00:00              0  0.1513  \n",
       "3618 2020-08-22 14:47:41+00:00           2348 -0.7351  \n",
       "1033 2020-08-22 14:52:30+00:00             11 -0.6880  \n",
       "286  2020-08-22 14:52:19+00:00           1822  0.8555  \n",
       "628  2020-08-22 14:52:12+00:00            400  0.4588  \n",
       "786  2020-08-22 14:52:09+00:00           3404  0.5766  \n",
       "4112 2020-08-22 14:51:45+00:00             59 -0.7184  \n",
       "1864 2020-08-22 14:51:49+00:00              0  0.4118  \n",
       "1151 2020-08-22 14:52:25+00:00              0 -0.3950  "
      ]
     },
     "execution_count": 5,
     "metadata": {},
     "output_type": "execute_result"
    }
   ],
   "source": [
    "contweets.sample(10)"
   ]
  },
  {
   "cell_type": "code",
   "execution_count": 6,
   "metadata": {
    "scrolled": true
   },
   "outputs": [
    {
     "data": {
      "text/html": [
       "<div>\n",
       "<style scoped>\n",
       "    .dataframe tbody tr th:only-of-type {\n",
       "        vertical-align: middle;\n",
       "    }\n",
       "\n",
       "    .dataframe tbody tr th {\n",
       "        vertical-align: top;\n",
       "    }\n",
       "\n",
       "    .dataframe thead th {\n",
       "        text-align: right;\n",
       "    }\n",
       "</style>\n",
       "<table border=\"1\" class=\"dataframe\">\n",
       "  <thead>\n",
       "    <tr style=\"text-align: right;\">\n",
       "      <th></th>\n",
       "      <th>topic</th>\n",
       "      <th>text</th>\n",
       "      <th>created_at</th>\n",
       "      <th>retweet_count</th>\n",
       "      <th>score</th>\n",
       "    </tr>\n",
       "  </thead>\n",
       "  <tbody>\n",
       "    <tr>\n",
       "      <th>1314</th>\n",
       "      <td>democrats</td>\n",
       "      <td>RT @TimRunsHisMouth: Democrats LOVED Unions un...</td>\n",
       "      <td>2020-08-22 14:52:33+00:00</td>\n",
       "      <td>523</td>\n",
       "      <td>0.6841</td>\n",
       "    </tr>\n",
       "    <tr>\n",
       "      <th>1745</th>\n",
       "      <td>democrats</td>\n",
       "      <td>RT @davereaboi: Democrats won’t condemn Antifa...</td>\n",
       "      <td>2020-08-22 14:51:57+00:00</td>\n",
       "      <td>262</td>\n",
       "      <td>-0.8625</td>\n",
       "    </tr>\n",
       "    <tr>\n",
       "      <th>1920</th>\n",
       "      <td>democrats</td>\n",
       "      <td>@SenSchumer How would you do better.  Cuomo’s ...</td>\n",
       "      <td>2020-08-22 14:51:40+00:00</td>\n",
       "      <td>0</td>\n",
       "      <td>0.4926</td>\n",
       "    </tr>\n",
       "    <tr>\n",
       "      <th>761</th>\n",
       "      <td>coronavirus</td>\n",
       "      <td>RT @wfaa: The U.S. can get the coronavirus und...</td>\n",
       "      <td>2020-08-22 14:51:39+00:00</td>\n",
       "      <td>40</td>\n",
       "      <td>0.0000</td>\n",
       "    </tr>\n",
       "    <tr>\n",
       "      <th>1423</th>\n",
       "      <td>democrats</td>\n",
       "      <td>The lame stream media is filled with lie after...</td>\n",
       "      <td>2020-08-22 14:52:23+00:00</td>\n",
       "      <td>0</td>\n",
       "      <td>-0.4215</td>\n",
       "    </tr>\n",
       "    <tr>\n",
       "      <th>2347</th>\n",
       "      <td>ukraine</td>\n",
       "      <td>@Azula163 @ChefMandolorian @PSchtup @thehill N...</td>\n",
       "      <td>2020-08-22 14:38:37+00:00</td>\n",
       "      <td>0</td>\n",
       "      <td>0.0000</td>\n",
       "    </tr>\n",
       "    <tr>\n",
       "      <th>87</th>\n",
       "      <td>coronavirus</td>\n",
       "      <td>RT @ABCWorldNews: South Korea's presidential o...</td>\n",
       "      <td>2020-08-22 14:52:48+00:00</td>\n",
       "      <td>2</td>\n",
       "      <td>0.0000</td>\n",
       "    </tr>\n",
       "    <tr>\n",
       "      <th>4633</th>\n",
       "      <td>protest</td>\n",
       "      <td>RT @gerrywebster: Our dear gardai have allowed...</td>\n",
       "      <td>2020-08-22 14:52:03+00:00</td>\n",
       "      <td>9</td>\n",
       "      <td>-0.1280</td>\n",
       "    </tr>\n",
       "    <tr>\n",
       "      <th>166</th>\n",
       "      <td>coronavirus</td>\n",
       "      <td>Masks can help control the spread of this coro...</td>\n",
       "      <td>2020-08-22 14:52:39+00:00</td>\n",
       "      <td>0</td>\n",
       "      <td>0.4019</td>\n",
       "    </tr>\n",
       "    <tr>\n",
       "      <th>3058</th>\n",
       "      <td>police</td>\n",
       "      <td>RT @livesmattershow: LAST NIGHT: After rioters...</td>\n",
       "      <td>2020-08-22 14:53:09+00:00</td>\n",
       "      <td>125</td>\n",
       "      <td>0.0000</td>\n",
       "    </tr>\n",
       "  </tbody>\n",
       "</table>\n",
       "</div>"
      ],
      "text/plain": [
       "            topic                                               text  \\\n",
       "1314    democrats  RT @TimRunsHisMouth: Democrats LOVED Unions un...   \n",
       "1745    democrats  RT @davereaboi: Democrats won’t condemn Antifa...   \n",
       "1920    democrats  @SenSchumer How would you do better.  Cuomo’s ...   \n",
       "761   coronavirus  RT @wfaa: The U.S. can get the coronavirus und...   \n",
       "1423    democrats  The lame stream media is filled with lie after...   \n",
       "2347      ukraine  @Azula163 @ChefMandolorian @PSchtup @thehill N...   \n",
       "87    coronavirus  RT @ABCWorldNews: South Korea's presidential o...   \n",
       "4633      protest  RT @gerrywebster: Our dear gardai have allowed...   \n",
       "166   coronavirus  Masks can help control the spread of this coro...   \n",
       "3058       police  RT @livesmattershow: LAST NIGHT: After rioters...   \n",
       "\n",
       "                    created_at  retweet_count   score  \n",
       "1314 2020-08-22 14:52:33+00:00            523  0.6841  \n",
       "1745 2020-08-22 14:51:57+00:00            262 -0.8625  \n",
       "1920 2020-08-22 14:51:40+00:00              0  0.4926  \n",
       "761  2020-08-22 14:51:39+00:00             40  0.0000  \n",
       "1423 2020-08-22 14:52:23+00:00              0 -0.4215  \n",
       "2347 2020-08-22 14:38:37+00:00              0  0.0000  \n",
       "87   2020-08-22 14:52:48+00:00              2  0.0000  \n",
       "4633 2020-08-22 14:52:03+00:00              9 -0.1280  \n",
       "166  2020-08-22 14:52:39+00:00              0  0.4019  \n",
       "3058 2020-08-22 14:53:09+00:00            125  0.0000  "
      ]
     },
     "execution_count": 6,
     "metadata": {},
     "output_type": "execute_result"
    }
   ],
   "source": [
    "libtweets.sample(10)"
   ]
  },
  {
   "cell_type": "code",
   "execution_count": 7,
   "metadata": {},
   "outputs": [
    {
     "data": {
      "text/html": [
       "<div>\n",
       "<style scoped>\n",
       "    .dataframe tbody tr th:only-of-type {\n",
       "        vertical-align: middle;\n",
       "    }\n",
       "\n",
       "    .dataframe tbody tr th {\n",
       "        vertical-align: top;\n",
       "    }\n",
       "\n",
       "    .dataframe thead th {\n",
       "        text-align: right;\n",
       "    }\n",
       "</style>\n",
       "<table border=\"1\" class=\"dataframe\">\n",
       "  <thead>\n",
       "    <tr style=\"text-align: right;\">\n",
       "      <th></th>\n",
       "      <th>retweet_count</th>\n",
       "      <th>score</th>\n",
       "    </tr>\n",
       "    <tr>\n",
       "      <th>topic</th>\n",
       "      <th></th>\n",
       "      <th></th>\n",
       "    </tr>\n",
       "  </thead>\n",
       "  <tbody>\n",
       "    <tr>\n",
       "      <th>coronavirus</th>\n",
       "      <td>1094.663743</td>\n",
       "      <td>-0.033927</td>\n",
       "    </tr>\n",
       "    <tr>\n",
       "      <th>democrats</th>\n",
       "      <td>1775.526961</td>\n",
       "      <td>-0.035853</td>\n",
       "    </tr>\n",
       "    <tr>\n",
       "      <th>police</th>\n",
       "      <td>1015.594320</td>\n",
       "      <td>-0.182297</td>\n",
       "    </tr>\n",
       "    <tr>\n",
       "      <th>protest</th>\n",
       "      <td>890.102326</td>\n",
       "      <td>-0.142390</td>\n",
       "    </tr>\n",
       "    <tr>\n",
       "      <th>ukraine</th>\n",
       "      <td>227.115942</td>\n",
       "      <td>-0.033992</td>\n",
       "    </tr>\n",
       "  </tbody>\n",
       "</table>\n",
       "</div>"
      ],
      "text/plain": [
       "             retweet_count     score\n",
       "topic                               \n",
       "coronavirus    1094.663743 -0.033927\n",
       "democrats      1775.526961 -0.035853\n",
       "police         1015.594320 -0.182297\n",
       "protest         890.102326 -0.142390\n",
       "ukraine         227.115942 -0.033992"
      ]
     },
     "execution_count": 7,
     "metadata": {},
     "output_type": "execute_result"
    }
   ],
   "source": [
    "libtweets.groupby(\"topic\").mean()"
   ]
  },
  {
   "cell_type": "code",
   "execution_count": 8,
   "metadata": {},
   "outputs": [
    {
     "data": {
      "text/html": [
       "<div>\n",
       "<style scoped>\n",
       "    .dataframe tbody tr th:only-of-type {\n",
       "        vertical-align: middle;\n",
       "    }\n",
       "\n",
       "    .dataframe tbody tr th {\n",
       "        vertical-align: top;\n",
       "    }\n",
       "\n",
       "    .dataframe thead th {\n",
       "        text-align: right;\n",
       "    }\n",
       "</style>\n",
       "<table border=\"1\" class=\"dataframe\">\n",
       "  <thead>\n",
       "    <tr style=\"text-align: right;\">\n",
       "      <th></th>\n",
       "      <th>retweet_count</th>\n",
       "      <th>score</th>\n",
       "    </tr>\n",
       "    <tr>\n",
       "      <th>topic</th>\n",
       "      <th></th>\n",
       "      <th></th>\n",
       "    </tr>\n",
       "  </thead>\n",
       "  <tbody>\n",
       "    <tr>\n",
       "      <th>BLM</th>\n",
       "      <td>644.437853</td>\n",
       "      <td>-0.060884</td>\n",
       "    </tr>\n",
       "    <tr>\n",
       "      <th>antifa</th>\n",
       "      <td>450.162162</td>\n",
       "      <td>-0.152269</td>\n",
       "    </tr>\n",
       "    <tr>\n",
       "      <th>biden</th>\n",
       "      <td>1157.496957</td>\n",
       "      <td>0.025244</td>\n",
       "    </tr>\n",
       "    <tr>\n",
       "      <th>portland</th>\n",
       "      <td>574.574899</td>\n",
       "      <td>-0.147702</td>\n",
       "    </tr>\n",
       "    <tr>\n",
       "      <th>trump</th>\n",
       "      <td>920.454407</td>\n",
       "      <td>-0.036268</td>\n",
       "    </tr>\n",
       "  </tbody>\n",
       "</table>\n",
       "</div>"
      ],
      "text/plain": [
       "          retweet_count     score\n",
       "topic                            \n",
       "BLM          644.437853 -0.060884\n",
       "antifa       450.162162 -0.152269\n",
       "biden       1157.496957  0.025244\n",
       "portland     574.574899 -0.147702\n",
       "trump        920.454407 -0.036268"
      ]
     },
     "execution_count": 8,
     "metadata": {},
     "output_type": "execute_result"
    }
   ],
   "source": [
    "contweets.groupby(\"topic\").mean()"
   ]
  },
  {
   "cell_type": "code",
   "execution_count": 9,
   "metadata": {},
   "outputs": [],
   "source": [
    "con_sent = contweets.groupby(\"topic\").mean()\n",
    "con_sent['type'] = \"Conservative\"\n",
    "lib_sent = libtweets.groupby(\"topic\").mean()\n",
    "lib_sent['type'] = \"Liberal\"\n",
    "\n",
    "\n",
    "full_sens = pd.concat([con_sent, lib_sent])\n",
    "full_sens['topic'] = full_sens.index"
   ]
  },
  {
   "cell_type": "code",
   "execution_count": 26,
   "metadata": {},
   "outputs": [
    {
     "data": {
      "image/png": "[encoded data removed]",
      "text/plain": [
       "<Figure size 640x480 with 2 Axes>"
      ]
     },
     "metadata": {},
     "output_type": "display_data"
    },
    {
     "data": {
      "text/plain": [
       "<ggplot: (8766932430685)>"
      ]
     },
     "execution_count": 26,
     "metadata": {},
     "output_type": "execute_result"
    }
   ],
   "source": [
    "\n",
    "# g = sns.FacetGrid(full_sens, col=\"type\", height=6, ylim = (-.25, .25))\n",
    "# g = g.map(plt.bar, \"topic\", \"score\")\n",
    "# g.set_axis_labels(\"Topic\", \"Mean Sentiment\")\n",
    "\n",
    "\n",
    "(ggplot(full_sens, aes(x = 'topic', y = 'score', fill = 'topic')) + \n",
    "    geom_bar(stat = 'identity') + \n",
    "    facet_wrap(['type'], scales = \"free_x\") + \n",
    "    theme_bw() +\n",
    "    theme(axis_text_x = element_text(angle=45)) + \n",
    "    guides(fill = False) + \n",
    "    labs(x = \"Topic\", y = \"Mean Sentiment\"))"
   ]
  },
  {
   "cell_type": "code",
   "execution_count": 31,
   "metadata": {},
   "outputs": [
    {
     "data": {
      "image/png": "[encoded data removed]",
      "text/plain": [
       "<Figure size 640x480 with 2 Axes>"
      ]
     },
     "metadata": {},
     "output_type": "display_data"
    },
    {
     "data": {
      "text/plain": [
       "<ggplot: (8766929038941)>"
      ]
     },
     "execution_count": 31,
     "metadata": {},
     "output_type": "execute_result"
    }
   ],
   "source": [
    "(ggplot(full_sens, aes(x = 'topic', y = 'retweet_count', fill = 'topic')) + \n",
    "    geom_bar(stat = 'identity') + \n",
    "    facet_wrap(['type'], scales = \"free_x\") + \n",
    "    theme_bw() +\n",
    "    theme(axis_text_x = element_text(angle=45)) + \n",
    "    guides(fill = False) + \n",
    "    labs(x = \"Topic\", y = \"Mean Retweets\"))"
   ]
  },
  {
   "cell_type": "code",
   "execution_count": null,
   "metadata": {},
   "outputs": [],
   "source": []
  },
  {
   "cell_type": "code",
   "execution_count": null,
   "metadata": {},
   "outputs": [],
   "source": []
  }
 ],
 "metadata": {
  "kernelspec": {
   "display_name": "Python 3",
   "language": "python",
   "name": "python3"
  },
  "language_info": {
   "codemirror_mode": {
    "name": "ipython",
    "version": 3
   },
   "file_extension": ".py",
   "mimetype": "text/x-python",
   "name": "python",
   "nbconvert_exporter": "python",
   "pygments_lexer": "ipython3",
   "version": "3.7.4"
  }
 },
 "nbformat": 4,
 "nbformat_minor": 4
}
